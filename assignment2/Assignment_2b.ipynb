{
  "nbformat": 4,
  "nbformat_minor": 0,
  "metadata": {
    "colab": {
      "provenance": [],
      "machine_shape": "hm"
    },
    "kernelspec": {
      "name": "python3",
      "display_name": "Python 3"
    },
    "language_info": {
      "name": "python"
    },
    "accelerator": "GPU",
    "gpuClass": "premium"
  },
  "cells": [
    {
      "cell_type": "code",
      "execution_count": 2,
      "metadata": {
        "id": "WKFQzwqdm41_"
      },
      "outputs": [],
      "source": [
        "import tensorflow as tf"
      ]
    },
    {
      "cell_type": "markdown",
      "source": [
        "##Tensorflow Basics"
      ],
      "metadata": {
        "id": "yfGUbBXw5zpv"
      }
    },
    {
      "cell_type": "code",
      "source": [
        "#defining constants\n",
        "\n",
        "x = tf.constant([[5,2],[3,2]])\n",
        "print(x)\n",
        "print(x.numpy())\n"
      ],
      "metadata": {
        "colab": {
          "base_uri": "https://localhost:8080/"
        },
        "id": "GzaIEZOV4jTo",
        "outputId": "3308dd6b-d32c-40ec-96ed-de0f2286458e"
      },
      "execution_count": 4,
      "outputs": [
        {
          "output_type": "stream",
          "name": "stdout",
          "text": [
            "tf.Tensor(\n",
            "[[5 2]\n",
            " [3 2]], shape=(2, 2), dtype=int32)\n",
            "[[5 2]\n",
            " [3 2]]\n"
          ]
        }
      ]
    },
    {
      "cell_type": "code",
      "source": [
        "print(tf.ones(shape=(2, 3,3)))\n",
        "print(tf.zeros(shape=(2, 3,3)))"
      ],
      "metadata": {
        "colab": {
          "base_uri": "https://localhost:8080/"
        },
        "id": "h0YuFw_t5PaS",
        "outputId": "998b5871-4dcd-45e4-c0e4-6d9a6baaa503"
      },
      "execution_count": 8,
      "outputs": [
        {
          "output_type": "stream",
          "name": "stdout",
          "text": [
            "tf.Tensor(\n",
            "[[[1. 1. 1.]\n",
            "  [1. 1. 1.]\n",
            "  [1. 1. 1.]]\n",
            "\n",
            " [[1. 1. 1.]\n",
            "  [1. 1. 1.]\n",
            "  [1. 1. 1.]]], shape=(2, 3, 3), dtype=float32)\n",
            "tf.Tensor(\n",
            "[[[0. 0. 0.]\n",
            "  [0. 0. 0.]\n",
            "  [0. 0. 0.]]\n",
            "\n",
            " [[0. 0. 0.]\n",
            "  [0. 0. 0.]\n",
            "  [0. 0. 0.]]], shape=(2, 3, 3), dtype=float32)\n"
          ]
        }
      ]
    },
    {
      "cell_type": "code",
      "source": [
        "variable = tf.random.uniform(shape=(2, 2), minval=0,maxval=10,dtype='int32')\n",
        "tf_var = tf.Variable(variable)\n",
        "\n",
        "print(tf_var)\n"
      ],
      "metadata": {
        "colab": {
          "base_uri": "https://localhost:8080/"
        },
        "id": "57NM0aKu5wtt",
        "outputId": "2bc1ab11-f811-4a29-daed-a3b724482744"
      },
      "execution_count": 17,
      "outputs": [
        {
          "output_type": "stream",
          "name": "stdout",
          "text": [
            "<tf.Variable 'Variable:0' shape=(2, 2) dtype=int32, numpy=\n",
            "array([[0, 2],\n",
            "       [1, 6]], dtype=int32)>\n"
          ]
        }
      ]
    },
    {
      "cell_type": "markdown",
      "source": [
        "# **Math**"
      ],
      "metadata": {
        "id": "4hb9UOIY7k8f"
      }
    },
    {
      "cell_type": "code",
      "source": [
        "a = tf.ones(shape=(2, 2),dtype='int32')\n",
        "b = tf.random.uniform(shape=(2, 2), minval=0,maxval=10,dtype='int32')\n",
        "\n",
        "print(a*b)\n",
        "print(tf.square(b))\n"
      ],
      "metadata": {
        "colab": {
          "base_uri": "https://localhost:8080/"
        },
        "id": "DiO_aExF7kPg",
        "outputId": "f6d64b4f-9e06-49b7-828d-df1e3557252e"
      },
      "execution_count": 31,
      "outputs": [
        {
          "output_type": "stream",
          "name": "stdout",
          "text": [
            "tf.Tensor(\n",
            "[[4 0]\n",
            " [6 5]], shape=(2, 2), dtype=int32)\n",
            "tf.Tensor(\n",
            "[[16  0]\n",
            " [36 25]], shape=(2, 2), dtype=int32)\n"
          ]
        }
      ]
    },
    {
      "cell_type": "code",
      "source": [
        "print(tf.math.add(1, 2))\n",
        "print(tf.math.add([1,2],[3,4]))\n",
        "print(tf.math.reduce_sum([1, 2, 3]))"
      ],
      "metadata": {
        "colab": {
          "base_uri": "https://localhost:8080/"
        },
        "id": "LxmKaXMHnN4s",
        "outputId": "09ae1d8b-20c4-40f6-c232-ca45f83279da"
      },
      "execution_count": 7,
      "outputs": [
        {
          "output_type": "stream",
          "name": "stdout",
          "text": [
            "tf.Tensor(3, shape=(), dtype=int32)\n",
            "tf.Tensor([4 6], shape=(2,), dtype=int32)\n",
            "tf.Tensor(6, shape=(), dtype=int32)\n"
          ]
        }
      ]
    },
    {
      "cell_type": "code",
      "source": [
        "x = tf.linalg.matmul([[1],[4]], [[2, 3]])\n",
        "print(x)\n",
        "print(x.shape)\n",
        "print(x.dtype)"
      ],
      "metadata": {
        "colab": {
          "base_uri": "https://localhost:8080/"
        },
        "id": "W5oU3Lbln5Ay",
        "outputId": "c1e2d59b-4a8f-4131-d8c3-9830a19380c7"
      },
      "execution_count": 10,
      "outputs": [
        {
          "output_type": "stream",
          "name": "stdout",
          "text": [
            "tf.Tensor(\n",
            "[[ 2  3]\n",
            " [ 8 12]], shape=(2, 2), dtype=int32)\n",
            "(2, 2)\n",
            "<dtype: 'int32'>\n"
          ]
        }
      ]
    },
    {
      "cell_type": "markdown",
      "source": [
        "## Reshape"
      ],
      "metadata": {
        "id": "qGM3XC8YARwZ"
      }
    },
    {
      "cell_type": "code",
      "source": [
        "tensor1 = tf.constant([[[1,3,4],[5,3,2]],[[2,3,4],[6,3,2]],[[10,3,40],[5,30,2]]])\n",
        "tensor1"
      ],
      "metadata": {
        "colab": {
          "base_uri": "https://localhost:8080/"
        },
        "id": "LZi_VAYS_BMC",
        "outputId": "4bde9124-b81c-453a-f50d-2dce9dd7ce41"
      },
      "execution_count": 35,
      "outputs": [
        {
          "output_type": "execute_result",
          "data": {
            "text/plain": [
              "<tf.Tensor: shape=(3, 2, 3), dtype=int32, numpy=\n",
              "array([[[ 1,  3,  4],\n",
              "        [ 5,  3,  2]],\n",
              "\n",
              "       [[ 2,  3,  4],\n",
              "        [ 6,  3,  2]],\n",
              "\n",
              "       [[10,  3, 40],\n",
              "        [ 5, 30,  2]]], dtype=int32)>"
            ]
          },
          "metadata": {},
          "execution_count": 35
        }
      ]
    },
    {
      "cell_type": "code",
      "source": [
        "\n",
        "tensor2 = tf.reshape(tensor1, [3,3,2])  # reshape existing data \n",
        "\n",
        "tensor2\n"
      ],
      "metadata": {
        "colab": {
          "base_uri": "https://localhost:8080/"
        },
        "id": "kiR16t9j_rS-",
        "outputId": "5398448c-84ee-4dda-bb5a-a6361ae52f84"
      },
      "execution_count": 36,
      "outputs": [
        {
          "output_type": "execute_result",
          "data": {
            "text/plain": [
              "<tf.Tensor: shape=(3, 3, 2), dtype=int32, numpy=\n",
              "array([[[ 1,  3],\n",
              "        [ 4,  5],\n",
              "        [ 3,  2]],\n",
              "\n",
              "       [[ 2,  3],\n",
              "        [ 4,  6],\n",
              "        [ 3,  2]],\n",
              "\n",
              "       [[10,  3],\n",
              "        [40,  5],\n",
              "        [30,  2]]], dtype=int32)>"
            ]
          },
          "metadata": {},
          "execution_count": 36
        }
      ]
    },
    {
      "cell_type": "code",
      "source": [
        "tf_var = tf.constant([1,3,5,7,8,10,15,20,34])\n",
        "print(tf_var)\n",
        "\n",
        "tf_var[0].numpy()\n",
        "tf_var[-7].numpy()"
      ],
      "metadata": {
        "colab": {
          "base_uri": "https://localhost:8080/"
        },
        "id": "K5sAMCycAWpA",
        "outputId": "d9d2e728-e3dd-4721-f5b8-4745e94df461"
      },
      "execution_count": 45,
      "outputs": [
        {
          "output_type": "stream",
          "name": "stdout",
          "text": [
            "tf.Tensor([ 1  3  5  7  8 10 15 20 34], shape=(9,), dtype=int32)\n"
          ]
        },
        {
          "output_type": "execute_result",
          "data": {
            "text/plain": [
              "5"
            ]
          },
          "metadata": {},
          "execution_count": 45
        }
      ]
    },
    {
      "cell_type": "code",
      "source": [
        "print(tf_var[1:5].numpy())\n",
        "print(tf_var[4:].numpy())\n",
        "print(tf_var[::2].numpy()) # every other item\n",
        "print(tf_var[::3].numpy())# every 3rd item\n",
        "\n"
      ],
      "metadata": {
        "colab": {
          "base_uri": "https://localhost:8080/"
        },
        "id": "PIfg6IpxBubN",
        "outputId": "5fd759b2-4528-4fe7-da81-88b15bb0444f"
      },
      "execution_count": 53,
      "outputs": [
        {
          "output_type": "stream",
          "name": "stdout",
          "text": [
            "[3 5 7 8]\n",
            "[ 8 10 15 20 34]\n",
            "[ 1  7 15]\n"
          ]
        }
      ]
    },
    {
      "cell_type": "code",
      "source": [
        "a = tf.ones(shape=(2,2))\n",
        "b = tf.ones(shape=(2,2))\n",
        "a_tfvar = tf.Variable(a)"
      ],
      "metadata": {
        "id": "OFsZnY4_govP"
      },
      "execution_count": 19,
      "outputs": []
    },
    {
      "cell_type": "code",
      "source": [
        "a_tfvar.assign(b)\n",
        "\n",
        "for i in range(2):\n",
        "  for j in range(2):\n",
        "    print(a_tfvar[i,j])\n",
        "    print(b[i,j])\n",
        "    assert a_tfvar[i,j] == b[i,j]\n"
      ],
      "metadata": {
        "colab": {
          "base_uri": "https://localhost:8080/"
        },
        "id": "q2WXx88QryrQ",
        "outputId": "0e9e6cbf-ef7c-4d35-bb4b-88b545ad5fed"
      },
      "execution_count": 12,
      "outputs": [
        {
          "output_type": "stream",
          "name": "stdout",
          "text": [
            "tf.Tensor(0.0, shape=(), dtype=float32)\n",
            "tf.Tensor(0.0, shape=(), dtype=float32)\n",
            "tf.Tensor(0.0, shape=(), dtype=float32)\n",
            "tf.Tensor(0.0, shape=(), dtype=float32)\n",
            "tf.Tensor(0.0, shape=(), dtype=float32)\n",
            "tf.Tensor(0.0, shape=(), dtype=float32)\n",
            "tf.Tensor(0.0, shape=(), dtype=float32)\n",
            "tf.Tensor(0.0, shape=(), dtype=float32)\n"
          ]
        }
      ]
    },
    {
      "cell_type": "code",
      "source": [
        "a_tfvar.assign_add(b)"
      ],
      "metadata": {
        "colab": {
          "base_uri": "https://localhost:8080/"
        },
        "id": "wYLvvnaR53p9",
        "outputId": "ee0c9ed0-a64c-4bdb-85f4-ab84fc88cb91"
      },
      "execution_count": 16,
      "outputs": [
        {
          "output_type": "execute_result",
          "data": {
            "text/plain": [
              "<tf.Variable 'UnreadVariable' shape=(2, 2) dtype=float32, numpy=\n",
              "array([[2., 2.],\n",
              "       [2., 2.]], dtype=float32)>"
            ]
          },
          "metadata": {},
          "execution_count": 16
        }
      ]
    },
    {
      "cell_type": "code",
      "source": [
        "a_tfvar.assign_sub(b)"
      ],
      "metadata": {
        "colab": {
          "base_uri": "https://localhost:8080/"
        },
        "id": "NJgKjQWr6WdU",
        "outputId": "40f670cd-3974-493a-950c-fc170ade8e62"
      },
      "execution_count": 20,
      "outputs": [
        {
          "output_type": "execute_result",
          "data": {
            "text/plain": [
              "<tf.Variable 'UnreadVariable' shape=(2, 2) dtype=float32, numpy=\n",
              "array([[0., 0.],\n",
              "       [0., 0.]], dtype=float32)>"
            ]
          },
          "metadata": {},
          "execution_count": 20
        }
      ]
    },
    {
      "cell_type": "code",
      "source": [],
      "metadata": {
        "id": "6SM5U7cfq8or"
      },
      "execution_count": null,
      "outputs": []
    },
    {
      "cell_type": "markdown",
      "source": [
        "# Matrix Multiplication"
      ],
      "metadata": {
        "id": "dEJ2CNMh60wa"
      }
    },
    {
      "cell_type": "code",
      "source": [
        "m1 = tf.constant([[1],[2]])\n",
        "print(m1.shape)\n",
        "m2 = tf.constant([[1,2]])\n",
        "print(m2.shape)"
      ],
      "metadata": {
        "colab": {
          "base_uri": "https://localhost:8080/"
        },
        "id": "itncZweh60Ww",
        "outputId": "a7121142-627a-4c71-8d5d-fc41e5061c74"
      },
      "execution_count": 25,
      "outputs": [
        {
          "output_type": "stream",
          "name": "stdout",
          "text": [
            "(2, 1)\n",
            "(1, 2)\n"
          ]
        }
      ]
    },
    {
      "cell_type": "markdown",
      "source": [
        "## Tensorflow Einsum"
      ],
      "metadata": {
        "id": "Gk9cKkdUT6xw"
      }
    },
    {
      "cell_type": "code",
      "source": [
        "m0 = tf.random.normal(shape=(3,2))\n",
        "m1 = tf.random.normal(shape=(2,3))\n",
        "\n",
        "e = tf.einsum('ij,jk ->ik',m0,m1)\n",
        "print(e.shape)\n",
        "print(e)"
      ],
      "metadata": {
        "colab": {
          "base_uri": "https://localhost:8080/"
        },
        "id": "MqJQicfRTxi-",
        "outputId": "93d7ece7-80d4-42b8-b175-8c465144032a"
      },
      "execution_count": 3,
      "outputs": [
        {
          "output_type": "stream",
          "name": "stdout",
          "text": [
            "(3, 3)\n",
            "tf.Tensor(\n",
            "[[-0.35070992  0.10430431 -0.77833676]\n",
            " [-1.4679887   3.6189022  -0.87968683]\n",
            " [ 0.95341337 -1.006741    1.5754651 ]], shape=(3, 3), dtype=float32)\n"
          ]
        }
      ]
    },
    {
      "cell_type": "code",
      "source": [
        "m0 = tf.random.normal(shape=(3,2))\n",
        "m1 = tf.random.normal(shape=(2,1))\n",
        "\n",
        "e = tf.einsum('ij,jk ->ki',m0,m1)\n",
        "print(e.shape)\n",
        "print(e)"
      ],
      "metadata": {
        "colab": {
          "base_uri": "https://localhost:8080/"
        },
        "id": "YcZpsidUU30G",
        "outputId": "66245b0e-1767-427d-d1f7-a6e40261122c"
      },
      "execution_count": 5,
      "outputs": [
        {
          "output_type": "stream",
          "name": "stdout",
          "text": [
            "(1, 3)\n",
            "tf.Tensor([[ 0.00313315 -2.204155    0.9246214 ]], shape=(1, 3), dtype=float32)\n"
          ]
        }
      ]
    },
    {
      "cell_type": "code",
      "source": [
        "m0 = tf.random.normal(shape=[5])\n",
        "m1 = tf.random.normal(shape=[5])\n",
        "\n",
        "print(m0)\n",
        "\n",
        "e=tf.einsum('i,i->',m0,m1)\n",
        "\n",
        "print(e)\n"
      ],
      "metadata": {
        "colab": {
          "base_uri": "https://localhost:8080/"
        },
        "id": "4Fg2SEdjVGgq",
        "outputId": "f1353b96-1be2-4c9f-8841-3ee25c42900b"
      },
      "execution_count": 9,
      "outputs": [
        {
          "output_type": "stream",
          "name": "stdout",
          "text": [
            "tf.Tensor([ 1.5152853  -0.01245665 -0.6864052  -0.75580317  0.20671712], shape=(5,), dtype=float32)\n",
            "tf.Tensor(0.10716015, shape=(), dtype=float32)\n"
          ]
        }
      ]
    },
    {
      "cell_type": "code",
      "source": [
        "m0 = tf.random.normal(shape=[2])\n",
        "m1 = tf.random.normal(shape=[5])\n",
        "\n",
        "print(m0)\n",
        "print(m1)\n",
        "\n",
        "e=tf.einsum('i,j->ij',m0,m1)\n",
        "\n",
        "print(e)\n"
      ],
      "metadata": {
        "colab": {
          "base_uri": "https://localhost:8080/"
        },
        "id": "TttKm52LV07C",
        "outputId": "66a8667f-8549-4ebe-cd2c-6ecaf7c9735f"
      },
      "execution_count": 11,
      "outputs": [
        {
          "output_type": "stream",
          "name": "stdout",
          "text": [
            "tf.Tensor([-0.5114267  -0.15820399], shape=(2,), dtype=float32)\n",
            "tf.Tensor([-0.5299457   0.00258639 -0.18228339  0.19975963  0.08145297], shape=(5,), dtype=float32)\n",
            "tf.Tensor(\n",
            "[[ 0.27102837 -0.00132275  0.09322459 -0.10216241 -0.04165722]\n",
            " [ 0.08383952 -0.00040918  0.02883796 -0.03160277 -0.01288618]], shape=(2, 5), dtype=float32)\n"
          ]
        }
      ]
    }
  ]
}