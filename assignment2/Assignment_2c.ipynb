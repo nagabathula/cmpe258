{
  "nbformat": 4,
  "nbformat_minor": 0,
  "metadata": {
    "colab": {
      "provenance": []
    },
    "kernelspec": {
      "name": "python3",
      "display_name": "Python 3"
    },
    "language_info": {
      "name": "python"
    }
  },
  "cells": [
    {
      "cell_type": "code",
      "execution_count": 1,
      "metadata": {
        "id": "yrRkI0SwgGWb"
      },
      "outputs": [],
      "source": [
        "import tensorflow as tf\n",
        "\n"
      ]
    },
    {
      "cell_type": "code",
      "source": [
        "\n",
        "import numpy as np\n",
        "arr = [1,2,3]\n",
        "\n",
        "print(arr)\n",
        "print(tf.shape(arr))\n",
        "\n",
        "print(tf.range(tf.shape(arr)[0]))\n"
      ],
      "metadata": {
        "colab": {
          "base_uri": "https://localhost:8080/"
        },
        "id": "6yyTugG8hJ_h",
        "outputId": "a9deb3ed-6b86-4127-db1c-48ab7a8e82fa"
      },
      "execution_count": 8,
      "outputs": [
        {
          "output_type": "stream",
          "name": "stdout",
          "text": [
            "[1, 2, 3]\n",
            "tf.Tensor([3], shape=(1,), dtype=int32)\n",
            "tf.Tensor([0 1 2], shape=(3,), dtype=int32)\n"
          ]
        }
      ]
    },
    {
      "cell_type": "code",
      "source": [
        "\n"
      ],
      "metadata": {
        "id": "ypq4UtrMgTx8"
      },
      "execution_count": null,
      "outputs": []
    },
    {
      "cell_type": "markdown",
      "source": [
        "# Linear Search"
      ],
      "metadata": {
        "id": "f3BIgelDtSXF"
      }
    },
    {
      "cell_type": "code",
      "source": [
        "def linear_search(arr, target):\n",
        "    \"\"\"\n",
        "    Searches for a target element in a 1D tensor using linear search algorithm.\n",
        "    \"\"\"\n",
        "    indices = tf.range(tf.shape(arr)[0])\n",
        "    mask = tf.equal(arr, target)\n",
        "    # create a boolean tensor to mark where the target is found\n",
        "    matches = tf.boolean_mask(indices, mask)\n",
        "    # get the indices where target is found\n",
        "    return tf.cond(tf.size(matches) > 0, lambda: matches[0], lambda: -1)\n",
        "    # return the first match, or -1 if no match is found\n"
      ],
      "metadata": {
        "id": "8gta6aIkgboR"
      },
      "execution_count": 9,
      "outputs": []
    },
    {
      "cell_type": "markdown",
      "source": [
        "# Insertion Sort"
      ],
      "metadata": {
        "id": "yO9oYg1ntWxd"
      }
    },
    {
      "cell_type": "code",
      "source": [
        "import tensorflow as tf\n",
        "\n",
        "def insertion_sort(arr):\n",
        "    \"\"\"\n",
        "    Sorts a 1D tensor in ascending order using insertion sort algorithm.\n",
        "    \"\"\"\n",
        "    for i in tf.range(1, tf.shape(arr)[0]):\n",
        "        key = arr[i]\n",
        "        j = i - 1\n",
        "        while j >= 0 and key < arr[j]:\n",
        "            arr = tf.tensor_scatter_nd_update(arr, [[j+1]], [arr[j]])\n",
        "            j -= 1\n",
        "        arr = tf.tensor_scatter_nd_update(arr, [[j+1]], [key])\n",
        "    return arr\n"
      ],
      "metadata": {
        "id": "sKTfBxyDtb3l"
      },
      "execution_count": 10,
      "outputs": []
    },
    {
      "cell_type": "code",
      "source": [
        "import tensorflow as tf\n",
        "\n",
        "def binary_search(arr, target):\n",
        "    \"\"\"\n",
        "    Searches for a target element in a 1D tensor using binary search algorithm.\n",
        "    \"\"\"\n",
        "    low = tf.constant(0)\n",
        "    high = tf.shape(arr)[0] - 1\n",
        "\n",
        "    while low <= high:\n",
        "        mid = (low + high) // 2\n",
        "        if arr[mid] == target:\n",
        "            return mid\n",
        "        elif arr[mid] < target:\n",
        "            low = mid + 1\n",
        "        else:\n",
        "            high = mid - 1\n",
        "    return -1\n"
      ],
      "metadata": {
        "id": "DfPp98gJuxIA"
      },
      "execution_count": 11,
      "outputs": []
    },
    {
      "cell_type": "code",
      "source": [
        "array = [1,2,4,5,11,5,3]\n",
        "\n",
        "print(binary_search(array,3))"
      ],
      "metadata": {
        "colab": {
          "base_uri": "https://localhost:8080/"
        },
        "id": "UsPlyTc8u2pZ",
        "outputId": "4f7d505e-23b9-434b-e41b-1ca9aa08b131"
      },
      "execution_count": 17,
      "outputs": [
        {
          "output_type": "stream",
          "name": "stdout",
          "text": [
            "-1\n"
          ]
        }
      ]
    },
    {
      "cell_type": "code",
      "source": [
        "print(insertion_sort(array))"
      ],
      "metadata": {
        "colab": {
          "base_uri": "https://localhost:8080/"
        },
        "id": "2AxGnjVevl3B",
        "outputId": "c1c96497-b59c-4a16-ffee-2ea2b49ff19d"
      },
      "execution_count": 18,
      "outputs": [
        {
          "output_type": "stream",
          "name": "stdout",
          "text": [
            "tf.Tensor([ 1  2  3  4  5  5 11], shape=(7,), dtype=int32)\n"
          ]
        }
      ]
    },
    {
      "cell_type": "code",
      "source": [
        "print(linear_search(array,11))"
      ],
      "metadata": {
        "colab": {
          "base_uri": "https://localhost:8080/"
        },
        "id": "jLu4gXbRvsu-",
        "outputId": "1dd23290-3c96-4ca9-e89a-c247e938447d"
      },
      "execution_count": 21,
      "outputs": [
        {
          "output_type": "stream",
          "name": "stdout",
          "text": [
            "tf.Tensor(4, shape=(), dtype=int32)\n"
          ]
        }
      ]
    }
  ]
}